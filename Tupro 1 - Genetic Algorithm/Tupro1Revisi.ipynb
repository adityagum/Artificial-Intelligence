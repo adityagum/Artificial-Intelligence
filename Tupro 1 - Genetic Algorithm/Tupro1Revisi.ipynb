{
  "nbformat": 4,
  "nbformat_minor": 0,
  "metadata": {
    "colab": {
      "name": "RevisiTupro1.ipynb",
      "provenance": [],
      "collapsed_sections": [
        "54EagRpwx-HB",
        "-sEJ_mhUx-Z1",
        "_if1oUX5x-uM",
        "qPkkuv3Kx-8k",
        "n1t-qBQ1x_KR",
        "uwYqMbNkx_ar",
        "wa0PRlWYx_qt",
        "oFOSyqupx_7z"
      ]
    },
    "kernelspec": {
      "name": "python3",
      "display_name": "Python 3"
    }
  },
  "cells": [
    {
      "cell_type": "markdown",
      "metadata": {
        "id": "54EagRpwx-HB"
      },
      "source": [
        "# Inisialisasi Populasi"
      ]
    },
    {
      "cell_type": "code",
      "metadata": {
        "id": "_GSSE4OEyGQb"
      },
      "source": [
        "import numpy as np\n",
        "\n",
        "def init_populasi( sizepop, nchrom ):\n",
        "    pop = np.random.randint(0, 2, (sizepop, nchrom))\n",
        "    \n",
        "    return pop"
      ],
      "execution_count": 1,
      "outputs": []
    },
    {
      "cell_type": "code",
      "metadata": {
        "id": "gchDOtjlyOww",
        "outputId": "38bbf56a-fabe-4a9c-f5c2-be94d79fb517",
        "colab": {
          "base_uri": "https://localhost:8080/",
          "height": 52
        }
      },
      "source": [
        "#untuk ujicoba saja\n",
        "pop = init_populasi(2,4)\n",
        "print(pop)"
      ],
      "execution_count": 21,
      "outputs": [
        {
          "output_type": "stream",
          "text": [
            "[[1 1 1 1]\n",
            " [0 1 0 0]]\n"
          ],
          "name": "stdout"
        }
      ]
    },
    {
      "cell_type": "markdown",
      "metadata": {
        "id": "-sEJ_mhUx-Z1"
      },
      "source": [
        "# Kromosom"
      ]
    },
    {
      "cell_type": "code",
      "metadata": {
        "id": "L6OWUs3Py0Jq"
      },
      "source": [
        "def dec_chrom(pop, min, max):\n",
        "    sizepop, nchrom = pop.shape\n",
        "    amountX = len(min)\n",
        "    alele = nchrom // amountX\n",
        "\n",
        "    copy_pop = pop.copy().reshape(sizepop, amountX, alele)\n",
        "\n",
        "    #berdasarkan contoh kromosom pada slide perkuliahan AI \n",
        "    bagi = np.array ( [ 2 ** - (i-1) for i in range(alele) ] )\n",
        "    plus = (max - min) / ( np.sum( bagi ) )\n",
        "\n",
        "    hasildec = min + ( plus * copy_pop.dot(bagi) ) \n",
        "\n",
        "    return hasildec \n",
        "\n",
        "    "
      ],
      "execution_count": 3,
      "outputs": []
    },
    {
      "cell_type": "code",
      "metadata": {
        "id": "A3n-iG1vy8J-",
        "outputId": "b7225ae3-09c8-42ea-ef9d-4beb60b7c7a4",
        "colab": {
          "base_uri": "https://localhost:8080/",
          "height": 35
        }
      },
      "source": [
        "c = np.array( [ [ 1,1,0,0,1,0 ] ] ) #nilai dari contoh jika menggunakan kromosom genotype binner\n",
        "min = np.array( [ -1 , -1] )        #batas ketentuan dari soal\n",
        "max = np.array( [ 2 , 1] )          #batas ketentuan dari soal\n",
        "x = dec_chrom( c, min, max )        \n",
        "print(x)"
      ],
      "execution_count": 4,
      "outputs": [
        {
          "output_type": "stream",
          "text": [
            "[[ 1.57142857 -0.42857143]]\n"
          ],
          "name": "stdout"
        }
      ]
    },
    {
      "cell_type": "markdown",
      "metadata": {
        "id": "_if1oUX5x-uM"
      },
      "source": [
        "# Evaluasi Fitnes"
      ]
    },
    {
      "cell_type": "code",
      "metadata": {
        "id": "w7FitfVJznEk"
      },
      "source": [
        "def rumus_objektif(x):\n",
        "    x1, x2 = x\n",
        "    a = (np.cos(x1)*np.sin(x2)) - (x1 / ( x2**2 + 1))\n",
        "\n",
        "    return a"
      ],
      "execution_count": 5,
      "outputs": []
    },
    {
      "cell_type": "code",
      "metadata": {
        "id": "nA5ZLlrbz9Cd"
      },
      "source": [
        "def hfit(hasildec):\n",
        "\n",
        "    fitness = -rumus_objektif(hasildec.T)\n",
        "    return fitness"
      ],
      "execution_count": 6,
      "outputs": []
    },
    {
      "cell_type": "code",
      "metadata": {
        "id": "dTvsXzdV0Z9p",
        "outputId": "20c0fab1-8cf4-43c5-f362-0daadc873524",
        "colab": {
          "base_uri": "https://localhost:8080/",
          "height": 35
        }
      },
      "source": [
        "rumus_objektif(np.array( [ 0.089, -0.712 ] ) ) #untuk ujicoba saja"
      ],
      "execution_count": 7,
      "outputs": [
        {
          "output_type": "execute_result",
          "data": {
            "text/plain": [
              "-0.709823233454355"
            ]
          },
          "metadata": {
            "tags": []
          },
          "execution_count": 7
        }
      ]
    },
    {
      "cell_type": "markdown",
      "metadata": {
        "id": "qPkkuv3Kx-8k"
      },
      "source": [
        "#Roulette Wheel"
      ]
    },
    {
      "cell_type": "code",
      "metadata": {
        "id": "j4K6Zmhz104d"
      },
      "source": [
        "def rwheel(fitness):\n",
        "    id_ortu = []\n",
        "    prob = fitness.copy()\n",
        "    prob = prob / np.sum( prob )\n",
        "    i = 0\n",
        "    while i in range(0,3):\n",
        "        r = np.random.rand()\n",
        "        id, total = 0, 0\n",
        "        i = i + 1\n",
        "        while total < r :\n",
        "            total = total + prob[id]\n",
        "            id = id + 1\n",
        "        id_ortu.append(id - 1)\n",
        "\n",
        "    return id_ortu "
      ],
      "execution_count": 8,
      "outputs": []
    },
    {
      "cell_type": "markdown",
      "metadata": {
        "id": "n1t-qBQ1x_KR"
      },
      "source": [
        "# CrossOver"
      ]
    },
    {
      "cell_type": "code",
      "metadata": {
        "id": "fBht2DIq2c-s"
      },
      "source": [
        "def persilangan(ortu_krom, prob_cross = 0.7 ):\n",
        "    _, nchrom = ortu_krom.shape\n",
        "\n",
        "    child = ortu_krom.copy()\n",
        "\n",
        "    r = np.random.rand()\n",
        "    if r < prob_cross :\n",
        "        tipot = np.random.randint(0, nchrom)\n",
        "        child[ ::-1, tipot: ] = ortu_krom[ ::, tipot: ]\n",
        "\n",
        "    return child"
      ],
      "execution_count": 9,
      "outputs": []
    },
    {
      "cell_type": "code",
      "metadata": {
        "id": "oMX1s1t_2hsa",
        "outputId": "312e700f-d6e8-46c1-c79f-c6ba31749ad2",
        "colab": {
          "base_uri": "https://localhost:8080/",
          "height": 87
        }
      },
      "source": [
        "#untuk ujicoba saja\n",
        "pop = init_populasi(2, 10)\n",
        "anak = persilangan(pop)\n",
        "\n",
        "print(pop)\n",
        "print(anak)"
      ],
      "execution_count": 10,
      "outputs": [
        {
          "output_type": "stream",
          "text": [
            "[[0 1 0 0 0 1 1 0 0 1]\n",
            " [1 0 0 1 1 1 0 0 0 0]]\n",
            "[[0 1 0 0 0 1 1 0 0 1]\n",
            " [1 0 0 1 1 1 0 0 0 0]]\n"
          ],
          "name": "stdout"
        }
      ]
    },
    {
      "cell_type": "markdown",
      "metadata": {
        "id": "uwYqMbNkx_ar"
      },
      "source": [
        "# Mutasi"
      ]
    },
    {
      "cell_type": "code",
      "metadata": {
        "id": "IVGWK1604E9t"
      },
      "source": [
        "def mutasi(krom, prob_mut = 0.1):\n",
        "    r = np.random.rand( *krom.shape )\n",
        "\n",
        "    mutasi = krom.copy()\n",
        "    termutasi = np.where( r < prob_mut, mutasi, krom )\n",
        "\n",
        "    return termutasi"
      ],
      "execution_count": 11,
      "outputs": []
    },
    {
      "cell_type": "code",
      "metadata": {
        "id": "CzArijrJ4Pbg",
        "outputId": "5226d5cc-a8ab-4cf4-b5b5-0ad81fadcf43",
        "colab": {
          "base_uri": "https://localhost:8080/",
          "height": 52
        }
      },
      "source": [
        "print (mutasi(anak)) #untuk ujicoba saja"
      ],
      "execution_count": 12,
      "outputs": [
        {
          "output_type": "stream",
          "text": [
            "[[0 1 0 0 0 1 1 0 0 1]\n",
            " [1 0 0 1 1 1 0 0 0 0]]\n"
          ],
          "name": "stdout"
        }
      ]
    },
    {
      "cell_type": "markdown",
      "metadata": {
        "id": "wa0PRlWYx_qt"
      },
      "source": [
        "# Elitisme"
      ]
    },
    {
      "cell_type": "code",
      "metadata": {
        "id": "j_zbKxn84Jw9"
      },
      "source": [
        "def elitisme( pop, fitness ):\n",
        "    \n",
        "    idterbaik = np.argmax( fitness )\n",
        "    kromterbaik = pop[idterbaik].copy()\n",
        "\n",
        "    new_pop = np.vstack( [ kromterbaik, kromterbaik ] )\n",
        "\n",
        "    return new_pop "
      ],
      "execution_count": 13,
      "outputs": []
    },
    {
      "cell_type": "code",
      "metadata": {
        "id": "6w5N5dhn4SrS",
        "outputId": "35f440c3-3c4b-4293-bb08-701c8bb4e808",
        "colab": {
          "base_uri": "https://localhost:8080/",
          "height": 104
        }
      },
      "source": [
        "init_populasi(5,6) #untuk ujicoba saja"
      ],
      "execution_count": 14,
      "outputs": [
        {
          "output_type": "execute_result",
          "data": {
            "text/plain": [
              "array([[0, 0, 1, 1, 0, 1],\n",
              "       [1, 0, 1, 0, 1, 1],\n",
              "       [1, 1, 0, 0, 0, 1],\n",
              "       [1, 1, 1, 1, 0, 0],\n",
              "       [1, 1, 0, 1, 1, 1]])"
            ]
          },
          "metadata": {
            "tags": []
          },
          "execution_count": 14
        }
      ]
    },
    {
      "cell_type": "markdown",
      "metadata": {
        "id": "oFOSyqupx_7z"
      },
      "source": [
        "#Main Program"
      ]
    },
    {
      "cell_type": "code",
      "metadata": {
        "id": "4-J5mTbY4YFl",
        "outputId": "429b3f87-5f6c-4f7a-e2f3-be5a362059c9",
        "colab": {
          "base_uri": "https://localhost:8080/",
          "height": 503
        }
      },
      "source": [
        "min = np.array( [ -1, -1 ] )\n",
        "max = np.array( [ 2, 1 ] )\n",
        "sizepop    = 50\n",
        "maxgen     = 50\n",
        "nchrom     = 10\n",
        "prob_cross = 0.7\n",
        "prob_mut   = 0.1\n",
        "\n",
        "history = []\n",
        "\n",
        "pop = init_populasi ( sizepop, nchrom)\n",
        "\n",
        "for mg in range(maxgen):\n",
        "    dec = dec_chrom( pop, min, max )\n",
        "    fitness = hfit( dec )\n",
        "\n",
        "    new_pop = elitisme( pop, fitness )\n",
        "    history.append( np.max(fitness) )\n",
        "    \n",
        "    if mg%2 == 0:\n",
        "        print('Generasi=',mg, 'Best Fitness=', np.max(fitness) )\n",
        "\n",
        "    while new_pop.shape[0] < sizepop:\n",
        "        id_ortu   = rwheel(fitness)\n",
        "        ortu      = pop[id_ortu].copy()\n",
        "        child     = persilangan(ortu, prob_cross)\n",
        "        termutasi = mutasi(child, prob_mut)\n",
        "\n",
        "        new_pop   = np.vstack( [ new_pop, termutasi ] )\n",
        "    \n",
        "    pop = new_pop\n",
        "\n",
        "print('=============================================')\n",
        "dec = dec_chrom(pop, min, max)\n",
        "fitness = hfit(dec)\n",
        "idterbaik = np.argmax(fitness)\n",
        "print('Dekode Terbaik  =',dec[idterbaik])\n",
        "print('Fitness Terbaik =',fitness[idterbaik])"
      ],
      "execution_count": 20,
      "outputs": [
        {
          "output_type": "stream",
          "text": [
            "Generasi= 0 Best Fitness= 2.0113427613973585\n",
            "Generasi= 2 Best Fitness= 2.0113427613973585\n",
            "Generasi= 4 Best Fitness= 2.0161198783747976\n",
            "Generasi= 6 Best Fitness= 2.0216527429522126\n",
            "Generasi= 8 Best Fitness= 2.0216527429522126\n",
            "Generasi= 10 Best Fitness= 2.0216527429522126\n",
            "Generasi= 12 Best Fitness= 2.0216527429522126\n",
            "Generasi= 14 Best Fitness= 2.0216527429522126\n",
            "Generasi= 16 Best Fitness= 2.0216527429522126\n",
            "Generasi= 18 Best Fitness= 2.0216527429522126\n",
            "Generasi= 20 Best Fitness= 2.0216527429522126\n",
            "Generasi= 22 Best Fitness= 2.0216527429522126\n",
            "Generasi= 24 Best Fitness= 2.0216527429522126\n",
            "Generasi= 26 Best Fitness= 2.0216527429522126\n",
            "Generasi= 28 Best Fitness= 2.0216527429522126\n",
            "Generasi= 30 Best Fitness= 2.0216527429522126\n",
            "Generasi= 32 Best Fitness= 2.0216527429522126\n",
            "Generasi= 34 Best Fitness= 2.0216527429522126\n",
            "Generasi= 36 Best Fitness= 2.0216527429522126\n",
            "Generasi= 38 Best Fitness= 2.0216527429522126\n",
            "Generasi= 40 Best Fitness= 2.0216527429522126\n",
            "Generasi= 42 Best Fitness= 2.0216527429522126\n",
            "Generasi= 44 Best Fitness= 2.0216527429522126\n",
            "Generasi= 46 Best Fitness= 2.0216527429522126\n",
            "Generasi= 48 Best Fitness= 2.0216527429522126\n",
            "=============================================\n",
            "Dekode Terbaik  = [2.         0.09677419]\n",
            "Fitness Terbaik = 2.0216527429522126\n"
          ],
          "name": "stdout"
        }
      ]
    }
  ]
}