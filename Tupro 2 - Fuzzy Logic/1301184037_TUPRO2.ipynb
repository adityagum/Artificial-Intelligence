{
  "nbformat": 4,
  "nbformat_minor": 0,
  "metadata": {
    "colab": {
      "name": "1301184037-TUPRO2.ipynb",
      "provenance": [],
      "collapsed_sections": []
    },
    "kernelspec": {
      "name": "python3",
      "display_name": "Python 3"
    }
  },
  "cells": [
    {
      "cell_type": "markdown",
      "metadata": {
        "id": "SpaQL7gGs7Tm"
      },
      "source": [
        "# Membership Function"
      ]
    },
    {
      "cell_type": "code",
      "metadata": {
        "id": "CO0t9fRZtgF2"
      },
      "source": [
        "import numpy as np\n",
        "import matplotlib.pyplot as plt\n",
        "%matplotlib inline"
      ],
      "execution_count": 529,
      "outputs": []
    },
    {
      "cell_type": "code",
      "metadata": {
        "id": "TM9CsDWtt0eZ"
      },
      "source": [
        "Penghasilan = {\n",
        "    'high'      : [ 15.92, 17.02, 18.03, 19.70],\n",
        "    'average'   : [ 9.47, 12.17, 14.00, 16.32],\n",
        "    'low'     : [ 4.62, 5.78, 7.03, 10.02],\n",
        "}\n",
        "\n",
        "Pengeluaran = {\n",
        "    'bottom'    : [ 3.44, 5.16, 6.35, 7.53],\n",
        "    'middle'    : [ 7.30, 8.06, 9.00, 9.52],\n",
        "    'upper'     : [ 8.60, 9.46, 10.11, 11.30],\n",
        "}"
      ],
      "execution_count": 530,
      "outputs": []
    },
    {
      "cell_type": "markdown",
      "metadata": {
        "id": "0kTz456xs7bg"
      },
      "source": [
        "# Plot Membership Function"
      ]
    },
    {
      "cell_type": "code",
      "metadata": {
        "id": "ZeooyNx72e9L"
      },
      "source": [
        "def plot_linguistik(titik, warna, label = '', min=0, max=1):\n",
        "    y = [0, 1, 1, 0]\n",
        "    # plt.plot((x1,x2), (y1,y2), warna)\n",
        "    plt.plot( (min, titik[0]), (0, 0), warna )\n",
        "    for i in range(len(titik)-1):\n",
        "        plt.plot( (titik[i], titik[i+1]), (y[i], y[i+1]), warna )\n",
        "    plt.plot( (titik[3], max), (0,0), warna, label=label )"
      ],
      "execution_count": 531,
      "outputs": []
    },
    {
      "cell_type": "code",
      "metadata": {
        "id": "OIc2F9RM4G93",
        "outputId": "cf921f57-4638-47fc-bb03-645803a244da",
        "colab": {
          "base_uri": "https://localhost:8080/",
          "height": 265
        }
      },
      "source": [
        "plot_linguistik(Penghasilan['high'], 'b-', max=4)\n",
        "plot_linguistik(Penghasilan['average'], 'g-', max=4)\n",
        "plot_linguistik(Penghasilan['low'], 'r-', max=4)"
      ],
      "execution_count": 532,
      "outputs": [
        {
          "output_type": "display_data",
          "data": {
            "image/png": "[encoded data removed]",
            "text/plain": [
              "<Figure size 432x288 with 1 Axes>"
            ]
          },
          "metadata": {
            "tags": [],
            "needs_background": "light"
          }
        }
      ]
    },
    {
      "cell_type": "code",
      "metadata": {
        "id": "OhPmzFtECK41"
      },
      "source": [
        "def plot_membership( membership, min = 0, max = 1 ):\n",
        "    warna = [ 'r', 'g', 'b', 'c', 'm', 'y', 'k' ]\n",
        "    i = 0\n",
        "    for ling in membership :\n",
        "        plot_linguistik(membership[ling], warna[i], ling, min=min, max=max)\n",
        "        i += 1\n",
        "    plt.legend(loc=3)\n",
        "    plt.show()"
      ],
      "execution_count": 533,
      "outputs": []
    },
    {
      "cell_type": "code",
      "metadata": {
        "id": "9V7smjqRC1tB",
        "outputId": "b38ed7ac-f9d1-41f8-cef9-1d38647ffd57",
        "colab": {
          "base_uri": "https://localhost:8080/",
          "height": 265
        }
      },
      "source": [
        "plot_membership(Pengeluaran, max=12)"
      ],
      "execution_count": 534,
      "outputs": [
        {
          "output_type": "display_data",
          "data": {
            "image/png": "[encoded data removed]",
            "text/plain": [
              "<Figure size 432x288 with 1 Axes>"
            ]
          },
          "metadata": {
            "tags": [],
            "needs_background": "light"
          }
        }
      ]
    },
    {
      "cell_type": "markdown",
      "metadata": {
        "id": "Zop163Qus7ne"
      },
      "source": [
        "# Fuzzyfikasi"
      ]
    },
    {
      "cell_type": "code",
      "metadata": {
        "id": "-g0bX2TJQRJT"
      },
      "source": [
        "def fuzzy_linguistik(x, titik):\n",
        "    if x < titik[0] or x > titik[3]:\n",
        "        return 0\n",
        "    elif x >= titik[1] and x <= titik[2]:\n",
        "        return 1\n",
        "    elif x >= titik[0] and x < titik[1]:\n",
        "        return (x-titik[0])/(titik[1]-titik[0])\n",
        "    elif x >= titik[2] and x < titik[3]:\n",
        "        return (titik[3]-x)/(titik[3]-titik[2])\n",
        "    return 0"
      ],
      "execution_count": 535,
      "outputs": []
    },
    {
      "cell_type": "code",
      "metadata": {
        "id": "XhVqmegMRH-L"
      },
      "source": [
        "def fuzzy_membership(x, membership ):\n",
        "    hasil = {}\n",
        "    for ling in membership :\n",
        "        hasil[ling] = fuzzy_linguistik(x, membership[ling])\n",
        "    return hasil"
      ],
      "execution_count": 536,
      "outputs": []
    },
    {
      "cell_type": "code",
      "metadata": {
        "id": "6-zwlGZXSoUN"
      },
      "source": [
        "def fuzzyfikasi(x, list_membership):\n",
        "    hasil = []\n",
        "    for i in range(len(list_membership)):\n",
        "        hasil.append( fuzzy_membership(x[i], list_membership[i]) )\n",
        "    return hasil"
      ],
      "execution_count": 537,
      "outputs": []
    },
    {
      "cell_type": "code",
      "metadata": {
        "id": "amLPam5ZGprT",
        "outputId": "5ce84d7f-7542-4abe-bef0-36db3f0202ae",
        "colab": {
          "base_uri": "https://localhost:8080/"
        }
      },
      "source": [
        "m1 = [13.11, 10.32]\n",
        "m2 = [5.78, 6.66]\n",
        "m1_fuzzy = fuzzyfikasi(m1, [Penghasilan, Pengeluaran])\n",
        "m2_fuzzy = fuzzyfikasi(m2, [Penghasilan, Pengeluaran])\n",
        "print(m1_fuzzy)"
      ],
      "execution_count": 538,
      "outputs": [
        {
          "output_type": "stream",
          "text": [
            "[{'high': 0, 'average': 1, 'low': 0}, {'bottom': 0, 'middle': 0, 'upper': 0.8235294117647054}]\n"
          ],
          "name": "stdout"
        }
      ]
    },
    {
      "cell_type": "code",
      "metadata": {
        "id": "GY0OQC3EI8ay",
        "outputId": "980b5eb8-5402-4790-8fc4-8d74da690387",
        "colab": {
          "base_uri": "https://localhost:8080/"
        }
      },
      "source": [
        "print(Penghasilan)\n",
        "fuzzy_membership( 10.00, Penghasilan)"
      ],
      "execution_count": 539,
      "outputs": [
        {
          "output_type": "stream",
          "text": [
            "{'high': [15.92, 17.02, 18.03, 19.7], 'average': [9.47, 12.17, 14.0, 16.32], 'low': [4.62, 5.78, 7.03, 10.02]}\n"
          ],
          "name": "stdout"
        },
        {
          "output_type": "execute_result",
          "data": {
            "text/plain": [
              "{'average': 0.1962962962962961, 'high': 0, 'low': 0.0066889632107022}"
            ]
          },
          "metadata": {
            "tags": []
          },
          "execution_count": 539
        }
      ]
    },
    {
      "cell_type": "markdown",
      "metadata": {
        "id": "C3UHwRkHs7uc"
      },
      "source": [
        "# Inferensi"
      ]
    },
    {
      "cell_type": "code",
      "metadata": {
        "id": "tcSGNyinTy8k"
      },
      "source": [
        "rule = {\n",
        "    ( 'high', 'upper' )     : 'reject',\n",
        "    ( 'high', 'middle' )    : 'reject',\n",
        "    ( 'high', 'bottom' )    : 'reject',\n",
        "    ( 'average', 'upper' )  : 'accept',\n",
        "    ( 'average', 'middle' ) : 'consider',\n",
        "    ( 'average', 'bottom' ) : 'consider',\n",
        "    ( 'low', 'upper' )      : 'accept',\n",
        "    ( 'low', 'middle' )     : 'consider',\n",
        "    ( 'low', 'bottom' )     : 'consider',\n",
        "}"
      ],
      "execution_count": 540,
      "outputs": []
    },
    {
      "cell_type": "code",
      "metadata": {
        "id": "StaHmke0UiW3"
      },
      "source": [
        "def inferensi(x_fuzzy, rule):\n",
        "    hasil = {}\n",
        "    for l1, v1 in x_fuzzy[0].items():\n",
        "        for l2, v2 in x_fuzzy[1].items():\n",
        "            r = (l1, l2)\n",
        "            min_value = min(v1, v2)\n",
        "            current_value = hasil.get( rule[r], 0)\n",
        "            hasil[ rule[r] ] = max(min_value, current_value)\n",
        "    return hasil"
      ],
      "execution_count": 541,
      "outputs": []
    },
    {
      "cell_type": "code",
      "metadata": {
        "id": "bZ88XEnMJUpD",
        "outputId": "1312ea6c-c679-4542-d424-b65d21692f86",
        "colab": {
          "base_uri": "https://localhost:8080/"
        }
      },
      "source": [
        "m1_infer = inferensi(m1_fuzzy, rule)\n",
        "m2_infer = inferensi(m2_fuzzy, rule)\n",
        "print(m1_infer)\n",
        "print(m2_infer)"
      ],
      "execution_count": 542,
      "outputs": [
        {
          "output_type": "stream",
          "text": [
            "{'reject': 0, 'consider': 0, 'accept': 0.8235294117647054}\n",
            "{'reject': 0, 'consider': 0.73728813559322, 'accept': 0}\n"
          ],
          "name": "stdout"
        }
      ]
    },
    {
      "cell_type": "markdown",
      "metadata": {
        "id": "di-3ZxZzs776"
      },
      "source": [
        "# Defuzzyfikasi Sugeno"
      ]
    },
    {
      "cell_type": "code",
      "metadata": {
        "id": "rK7Ap3_ieHus"
      },
      "source": [
        "def defuzz_sugeno( x_infer, membership ):\n",
        "    z_muB, muB = 0, 0\n",
        "    for ling in membership :\n",
        "        z_muB = z_muB + x_infer[ling]*membership[ling]\n",
        "        muB = muB + x_infer[ling]\n",
        "    return z_muB/muB"
      ],
      "execution_count": 543,
      "outputs": []
    },
    {
      "cell_type": "code",
      "metadata": {
        "id": "lrFtxy0Pe0l3"
      },
      "source": [
        "accept_sugeno = { 'accept':100, 'consider':50, 'reject':25}"
      ],
      "execution_count": 544,
      "outputs": []
    },
    {
      "cell_type": "markdown",
      "metadata": {
        "id": "nRWsHdSZilPw"
      },
      "source": [
        "# Contoh Kasus"
      ]
    },
    {
      "cell_type": "code",
      "metadata": {
        "id": "B8nann0AiniY",
        "outputId": "72a245c2-240a-4b61-a46e-f668bb3de2fe",
        "colab": {
          "base_uri": "https://localhost:8080/",
          "height": 202
        }
      },
      "source": [
        "import pandas as pd\n",
        "data_Mahasiswa = pd.read_excel('Mahasiswa.xls')\n",
        "data_Mahasiswa.head()"
      ],
      "execution_count": 545,
      "outputs": [
        {
          "output_type": "execute_result",
          "data": {
            "text/html": [
              "<div>\n",
              "<style scoped>\n",
              "    .dataframe tbody tr th:only-of-type {\n",
              "        vertical-align: middle;\n",
              "    }\n",
              "\n",
              "    .dataframe tbody tr th {\n",
              "        vertical-align: top;\n",
              "    }\n",
              "\n",
              "    .dataframe thead th {\n",
              "        text-align: right;\n",
              "    }\n",
              "</style>\n",
              "<table border=\"1\" class=\"dataframe\">\n",
              "  <thead>\n",
              "    <tr style=\"text-align: right;\">\n",
              "      <th></th>\n",
              "      <th>Id</th>\n",
              "      <th>Penghasilan</th>\n",
              "      <th>Pengeluaran</th>\n",
              "    </tr>\n",
              "  </thead>\n",
              "  <tbody>\n",
              "    <tr>\n",
              "      <th>0</th>\n",
              "      <td>1</td>\n",
              "      <td>18.76</td>\n",
              "      <td>9.68</td>\n",
              "    </tr>\n",
              "    <tr>\n",
              "      <th>1</th>\n",
              "      <td>2</td>\n",
              "      <td>8.35</td>\n",
              "      <td>4.52</td>\n",
              "    </tr>\n",
              "    <tr>\n",
              "      <th>2</th>\n",
              "      <td>3</td>\n",
              "      <td>17.03</td>\n",
              "      <td>10.11</td>\n",
              "    </tr>\n",
              "    <tr>\n",
              "      <th>3</th>\n",
              "      <td>4</td>\n",
              "      <td>8.23</td>\n",
              "      <td>9.25</td>\n",
              "    </tr>\n",
              "    <tr>\n",
              "      <th>4</th>\n",
              "      <td>5</td>\n",
              "      <td>16.89</td>\n",
              "      <td>6.99</td>\n",
              "    </tr>\n",
              "  </tbody>\n",
              "</table>\n",
              "</div>"
            ],
            "text/plain": [
              "   Id  Penghasilan  Pengeluaran\n",
              "0   1        18.76         9.68\n",
              "1   2         8.35         4.52\n",
              "2   3        17.03        10.11\n",
              "3   4         8.23         9.25\n",
              "4   5        16.89         6.99"
            ]
          },
          "metadata": {
            "tags": []
          },
          "execution_count": 545
        }
      ]
    },
    {
      "cell_type": "code",
      "metadata": {
        "id": "OkpHTOhyjabP",
        "outputId": "2ef87e49-bbbf-46de-a047-f4dad8dc6233",
        "colab": {
          "base_uri": "https://localhost:8080/",
          "height": 294
        }
      },
      "source": [
        "data_Mahasiswa.describe()"
      ],
      "execution_count": 546,
      "outputs": [
        {
          "output_type": "execute_result",
          "data": {
            "text/html": [
              "<div>\n",
              "<style scoped>\n",
              "    .dataframe tbody tr th:only-of-type {\n",
              "        vertical-align: middle;\n",
              "    }\n",
              "\n",
              "    .dataframe tbody tr th {\n",
              "        vertical-align: top;\n",
              "    }\n",
              "\n",
              "    .dataframe thead th {\n",
              "        text-align: right;\n",
              "    }\n",
              "</style>\n",
              "<table border=\"1\" class=\"dataframe\">\n",
              "  <thead>\n",
              "    <tr style=\"text-align: right;\">\n",
              "      <th></th>\n",
              "      <th>Id</th>\n",
              "      <th>Penghasilan</th>\n",
              "      <th>Pengeluaran</th>\n",
              "    </tr>\n",
              "  </thead>\n",
              "  <tbody>\n",
              "    <tr>\n",
              "      <th>count</th>\n",
              "      <td>100.000000</td>\n",
              "      <td>100.000000</td>\n",
              "      <td>100.00000</td>\n",
              "    </tr>\n",
              "    <tr>\n",
              "      <th>mean</th>\n",
              "      <td>50.500000</td>\n",
              "      <td>13.778900</td>\n",
              "      <td>8.38130</td>\n",
              "    </tr>\n",
              "    <tr>\n",
              "      <th>std</th>\n",
              "      <td>29.011492</td>\n",
              "      <td>4.055465</td>\n",
              "      <td>1.89298</td>\n",
              "    </tr>\n",
              "    <tr>\n",
              "      <th>min</th>\n",
              "      <td>1.000000</td>\n",
              "      <td>4.620000</td>\n",
              "      <td>3.44000</td>\n",
              "    </tr>\n",
              "    <tr>\n",
              "      <th>25%</th>\n",
              "      <td>25.750000</td>\n",
              "      <td>9.617500</td>\n",
              "      <td>7.39250</td>\n",
              "    </tr>\n",
              "    <tr>\n",
              "      <th>50%</th>\n",
              "      <td>50.500000</td>\n",
              "      <td>14.805000</td>\n",
              "      <td>8.60000</td>\n",
              "    </tr>\n",
              "    <tr>\n",
              "      <th>75%</th>\n",
              "      <td>75.250000</td>\n",
              "      <td>17.045000</td>\n",
              "      <td>9.80750</td>\n",
              "    </tr>\n",
              "    <tr>\n",
              "      <th>max</th>\n",
              "      <td>100.000000</td>\n",
              "      <td>19.690000</td>\n",
              "      <td>11.29000</td>\n",
              "    </tr>\n",
              "  </tbody>\n",
              "</table>\n",
              "</div>"
            ],
            "text/plain": [
              "               Id  Penghasilan  Pengeluaran\n",
              "count  100.000000   100.000000    100.00000\n",
              "mean    50.500000    13.778900      8.38130\n",
              "std     29.011492     4.055465      1.89298\n",
              "min      1.000000     4.620000      3.44000\n",
              "25%     25.750000     9.617500      7.39250\n",
              "50%     50.500000    14.805000      8.60000\n",
              "75%     75.250000    17.045000      9.80750\n",
              "max    100.000000    19.690000     11.29000"
            ]
          },
          "metadata": {
            "tags": []
          },
          "execution_count": 546
        }
      ]
    },
    {
      "cell_type": "code",
      "metadata": {
        "id": "y6SXXRLPj-jo"
      },
      "source": [
        "scale_Mahasiswa = data_Mahasiswa.copy()\n",
        "scale_Mahasiswa = data_Mahasiswa[['Penghasilan', 'Pengeluaran']]"
      ],
      "execution_count": 547,
      "outputs": []
    },
    {
      "cell_type": "code",
      "metadata": {
        "id": "xwC1vj-LkTZZ",
        "outputId": "05b6169e-fd0f-4930-9683-0a6bcc40ea6e",
        "colab": {
          "base_uri": "https://localhost:8080/",
          "height": 202
        }
      },
      "source": [
        "scale_Mahasiswa.head()"
      ],
      "execution_count": 548,
      "outputs": [
        {
          "output_type": "execute_result",
          "data": {
            "text/html": [
              "<div>\n",
              "<style scoped>\n",
              "    .dataframe tbody tr th:only-of-type {\n",
              "        vertical-align: middle;\n",
              "    }\n",
              "\n",
              "    .dataframe tbody tr th {\n",
              "        vertical-align: top;\n",
              "    }\n",
              "\n",
              "    .dataframe thead th {\n",
              "        text-align: right;\n",
              "    }\n",
              "</style>\n",
              "<table border=\"1\" class=\"dataframe\">\n",
              "  <thead>\n",
              "    <tr style=\"text-align: right;\">\n",
              "      <th></th>\n",
              "      <th>Penghasilan</th>\n",
              "      <th>Pengeluaran</th>\n",
              "    </tr>\n",
              "  </thead>\n",
              "  <tbody>\n",
              "    <tr>\n",
              "      <th>0</th>\n",
              "      <td>18.76</td>\n",
              "      <td>9.68</td>\n",
              "    </tr>\n",
              "    <tr>\n",
              "      <th>1</th>\n",
              "      <td>8.35</td>\n",
              "      <td>4.52</td>\n",
              "    </tr>\n",
              "    <tr>\n",
              "      <th>2</th>\n",
              "      <td>17.03</td>\n",
              "      <td>10.11</td>\n",
              "    </tr>\n",
              "    <tr>\n",
              "      <th>3</th>\n",
              "      <td>8.23</td>\n",
              "      <td>9.25</td>\n",
              "    </tr>\n",
              "    <tr>\n",
              "      <th>4</th>\n",
              "      <td>16.89</td>\n",
              "      <td>6.99</td>\n",
              "    </tr>\n",
              "  </tbody>\n",
              "</table>\n",
              "</div>"
            ],
            "text/plain": [
              "   Penghasilan  Pengeluaran\n",
              "0        18.76         9.68\n",
              "1         8.35         4.52\n",
              "2        17.03        10.11\n",
              "3         8.23         9.25\n",
              "4        16.89         6.99"
            ]
          },
          "metadata": {
            "tags": []
          },
          "execution_count": 548
        }
      ]
    },
    {
      "cell_type": "code",
      "metadata": {
        "id": "62yb5yUJm29O",
        "outputId": "7cbc1c65-c767-44a2-8dd4-9676918ab303",
        "colab": {
          "base_uri": "https://localhost:8080/",
          "height": 513
        }
      },
      "source": [
        "Penghasilan = {\n",
        "    'high'      : [ 15.92, 17.02, 18.03, 19.70],\n",
        "    'average'   : [ 9.47, 12.17, 14.00, 16.32],\n",
        "    'low'     : [ 4.62, 5.78, 7.03, 10.02],\n",
        "}\n",
        "\n",
        "Pengeluaran = {\n",
        "    'bottom'    : [ 3.44, 5.16, 6.35, 7.53],\n",
        "    'middle'    : [ 7.30, 8.06, 9.00, 9.52],\n",
        "    'upper'     : [ 8.60, 9.46, 10.11, 11.30],\n",
        "}\n",
        "\n",
        "diterima = {'accept' : 100, 'consider' : 50, 'reject' : 25}\n",
        "\n",
        "plot_membership(Penghasilan)\n",
        "plot_membership(Pengeluaran)"
      ],
      "execution_count": 549,
      "outputs": [
        {
          "output_type": "display_data",
          "data": {
            "image/png": "[encoded data removed]",
            "text/plain": [
              "<Figure size 432x288 with 1 Axes>"
            ]
          },
          "metadata": {
            "tags": [],
            "needs_background": "light"
          }
        },
        {
          "output_type": "display_data",
          "data": {
            "image/png": "[encoded data removed]",
            "text/plain": [
              "<Figure size 432x288 with 1 Axes>"
            ]
          },
          "metadata": {
            "tags": [],
            "needs_background": "light"
          }
        }
      ]
    },
    {
      "cell_type": "code",
      "metadata": {
        "id": "Mvp0IhdbxfHt"
      },
      "source": [
        "rule = {\n",
        "    ( 'high', 'upper' )     : 'reject',\n",
        "    ( 'high', 'middle' )    : 'reject',\n",
        "    ( 'high', 'bottom' )    : 'reject',\n",
        "    ( 'average', 'upper' )  : 'accept',\n",
        "    ( 'average', 'middle' ) : 'consider',\n",
        "    ( 'average', 'bottom' ) : 'consider',\n",
        "    ( 'low', 'upper' )      : 'accept',\n",
        "    ( 'low', 'middle' )     : 'accept',\n",
        "    ( 'low', 'bottom' )     : 'consider',\n",
        "}"
      ],
      "execution_count": 550,
      "outputs": []
    },
    {
      "cell_type": "code",
      "metadata": {
        "id": "hYcxS1V5yQIt",
        "outputId": "5501a984-2c25-4c02-efa5-51e47a241b12",
        "colab": {
          "base_uri": "https://localhost:8080/"
        }
      },
      "source": [
        "data = scale_Mahasiswa.values\n",
        "skor = []\n",
        "for x in data :\n",
        "    x_fuzzy = fuzzyfikasi(x, [Penghasilan, Pengeluaran])\n",
        "    x_infer = inferensi(x_fuzzy, rule)\n",
        "    x_defuz = defuzz_sugeno(x_infer, diterima)\n",
        "    skor.append(x_defuz)\n",
        "print(skor)"
      ],
      "execution_count": 551,
      "outputs": [
        {
          "output_type": "stream",
          "text": [
            "[25.0, 50.0, 25.0, 100.0, 25.0, 50.0, 100.0, 25.0, 25.0, 25.0, 50.0, 50.0, 50.0, 60.18518518518519, 25.0, 100.0, 25.0, 100.0, 50.0, 24.999999999999996, 100.0, 25.0, 50.0, 25.0, 100.0, 94.82758620689664, 25.0, 25.000000000000004, 25.0, 25.000000000000004, 25.0, 25.0, 100.0, 25.0, 25.0, 50.0, 94.82758620689664, 100.0, 49.99999999999999, 25.0, nan, 100.0, 100.0, 25.0, 25.0, 100.0, 100.0, 50.00000000000001, 99.99999999999999, 100.0, 50.0, 100.0, 50.00000000000001, 28.41191066997524, 28.569883167460105, 79.63872325499824, 25.0, 25.0, 50.0, 50.0, 50.0, 100.0, 100.0, 24.999999999999996, 100.0, 100.0, 50.0, 65.18076230983151, 100.0, 25.0, 50.0, 50.0, 50.0, 50.0, 100.0, 50.0, 25.0, 46.349139739823826, 100.0, 50.0, 100.0, 25.0, 25.0, 50.0, 50.0, 50.0, 25.0, 35.390428211587015, 50.0, 25.0, 50.00000000000001, 25.0, 50.0, 100.0, 25.0, 25.0, 25.0, 100.0, 100.0, nan]\n"
          ],
          "name": "stdout"
        },
        {
          "output_type": "stream",
          "text": [
            "/usr/local/lib/python3.6/dist-packages/ipykernel_launcher.py:6: RuntimeWarning: invalid value encountered in double_scalars\n",
            "  \n"
          ],
          "name": "stderr"
        }
      ]
    },
    {
      "cell_type": "code",
      "metadata": {
        "id": "YCzO-XHpy0mD",
        "outputId": "033028c9-0b91-4c73-b3bb-40497a523d5b",
        "colab": {
          "base_uri": "https://localhost:8080/"
        }
      },
      "source": [
        "data_Mahasiswa[\"skor\"]=skor\n",
        "t=data_Mahasiswa.sort_values(by=\"skor\")\n",
        "n=t.nlargest(20, 'skor')\n",
        "df = pd.DataFrame(n.sort_values(by='Id'), columns = ['Id'])\n",
        "cols = [1]\n",
        "print(df)\n",
        "df.to_excel('Bantuan.xls')"
      ],
      "execution_count": 552,
      "outputs": [
        {
          "output_type": "stream",
          "text": [
            "    Id\n",
            "3    4\n",
            "6    7\n",
            "15  16\n",
            "17  18\n",
            "20  21\n",
            "24  25\n",
            "32  33\n",
            "37  38\n",
            "41  42\n",
            "45  46\n",
            "46  47\n",
            "49  50\n",
            "51  52\n",
            "61  62\n",
            "68  69\n",
            "74  75\n",
            "78  79\n",
            "80  81\n",
            "93  94\n",
            "97  98\n"
          ],
          "name": "stdout"
        }
      ]
    },
    {
      "cell_type": "code",
      "metadata": {
        "id": "CqSuGwVwy_rg",
        "outputId": "402c1322-f87c-493a-e34c-f659b5cbfbde",
        "colab": {
          "base_uri": "https://localhost:8080/",
          "height": 662
        }
      },
      "source": [
        "n.sort_values(by='Id')"
      ],
      "execution_count": 553,
      "outputs": [
        {
          "output_type": "execute_result",
          "data": {
            "text/html": [
              "<div>\n",
              "<style scoped>\n",
              "    .dataframe tbody tr th:only-of-type {\n",
              "        vertical-align: middle;\n",
              "    }\n",
              "\n",
              "    .dataframe tbody tr th {\n",
              "        vertical-align: top;\n",
              "    }\n",
              "\n",
              "    .dataframe thead th {\n",
              "        text-align: right;\n",
              "    }\n",
              "</style>\n",
              "<table border=\"1\" class=\"dataframe\">\n",
              "  <thead>\n",
              "    <tr style=\"text-align: right;\">\n",
              "      <th></th>\n",
              "      <th>Id</th>\n",
              "      <th>Penghasilan</th>\n",
              "      <th>Pengeluaran</th>\n",
              "      <th>skor</th>\n",
              "    </tr>\n",
              "  </thead>\n",
              "  <tbody>\n",
              "    <tr>\n",
              "      <th>3</th>\n",
              "      <td>4</td>\n",
              "      <td>8.23</td>\n",
              "      <td>9.25</td>\n",
              "      <td>100.0</td>\n",
              "    </tr>\n",
              "    <tr>\n",
              "      <th>6</th>\n",
              "      <td>7</td>\n",
              "      <td>9.03</td>\n",
              "      <td>9.35</td>\n",
              "      <td>100.0</td>\n",
              "    </tr>\n",
              "    <tr>\n",
              "      <th>15</th>\n",
              "      <td>16</td>\n",
              "      <td>12.39</td>\n",
              "      <td>9.78</td>\n",
              "      <td>100.0</td>\n",
              "    </tr>\n",
              "    <tr>\n",
              "      <th>17</th>\n",
              "      <td>18</td>\n",
              "      <td>15.57</td>\n",
              "      <td>9.68</td>\n",
              "      <td>100.0</td>\n",
              "    </tr>\n",
              "    <tr>\n",
              "      <th>20</th>\n",
              "      <td>21</td>\n",
              "      <td>15.29</td>\n",
              "      <td>9.89</td>\n",
              "      <td>100.0</td>\n",
              "    </tr>\n",
              "    <tr>\n",
              "      <th>24</th>\n",
              "      <td>25</td>\n",
              "      <td>6.48</td>\n",
              "      <td>7.85</td>\n",
              "      <td>100.0</td>\n",
              "    </tr>\n",
              "    <tr>\n",
              "      <th>32</th>\n",
              "      <td>33</td>\n",
              "      <td>7.03</td>\n",
              "      <td>10.11</td>\n",
              "      <td>100.0</td>\n",
              "    </tr>\n",
              "    <tr>\n",
              "      <th>37</th>\n",
              "      <td>38</td>\n",
              "      <td>9.94</td>\n",
              "      <td>10.82</td>\n",
              "      <td>100.0</td>\n",
              "    </tr>\n",
              "    <tr>\n",
              "      <th>41</th>\n",
              "      <td>42</td>\n",
              "      <td>14.06</td>\n",
              "      <td>10.43</td>\n",
              "      <td>100.0</td>\n",
              "    </tr>\n",
              "    <tr>\n",
              "      <th>45</th>\n",
              "      <td>46</td>\n",
              "      <td>9.58</td>\n",
              "      <td>10.04</td>\n",
              "      <td>100.0</td>\n",
              "    </tr>\n",
              "    <tr>\n",
              "      <th>46</th>\n",
              "      <td>47</td>\n",
              "      <td>9.63</td>\n",
              "      <td>9.78</td>\n",
              "      <td>100.0</td>\n",
              "    </tr>\n",
              "    <tr>\n",
              "      <th>49</th>\n",
              "      <td>50</td>\n",
              "      <td>9.31</td>\n",
              "      <td>11.29</td>\n",
              "      <td>100.0</td>\n",
              "    </tr>\n",
              "    <tr>\n",
              "      <th>51</th>\n",
              "      <td>52</td>\n",
              "      <td>9.10</td>\n",
              "      <td>9.57</td>\n",
              "      <td>100.0</td>\n",
              "    </tr>\n",
              "    <tr>\n",
              "      <th>61</th>\n",
              "      <td>62</td>\n",
              "      <td>13.31</td>\n",
              "      <td>10.32</td>\n",
              "      <td>100.0</td>\n",
              "    </tr>\n",
              "    <tr>\n",
              "      <th>68</th>\n",
              "      <td>69</td>\n",
              "      <td>9.86</td>\n",
              "      <td>10.43</td>\n",
              "      <td>100.0</td>\n",
              "    </tr>\n",
              "    <tr>\n",
              "      <th>74</th>\n",
              "      <td>75</td>\n",
              "      <td>5.09</td>\n",
              "      <td>7.53</td>\n",
              "      <td>100.0</td>\n",
              "    </tr>\n",
              "    <tr>\n",
              "      <th>78</th>\n",
              "      <td>79</td>\n",
              "      <td>8.52</td>\n",
              "      <td>10.32</td>\n",
              "      <td>100.0</td>\n",
              "    </tr>\n",
              "    <tr>\n",
              "      <th>80</th>\n",
              "      <td>81</td>\n",
              "      <td>9.18</td>\n",
              "      <td>9.46</td>\n",
              "      <td>100.0</td>\n",
              "    </tr>\n",
              "    <tr>\n",
              "      <th>93</th>\n",
              "      <td>94</td>\n",
              "      <td>9.07</td>\n",
              "      <td>10.21</td>\n",
              "      <td>100.0</td>\n",
              "    </tr>\n",
              "    <tr>\n",
              "      <th>97</th>\n",
              "      <td>98</td>\n",
              "      <td>14.52</td>\n",
              "      <td>10.32</td>\n",
              "      <td>100.0</td>\n",
              "    </tr>\n",
              "  </tbody>\n",
              "</table>\n",
              "</div>"
            ],
            "text/plain": [
              "    Id  Penghasilan  Pengeluaran   skor\n",
              "3    4         8.23         9.25  100.0\n",
              "6    7         9.03         9.35  100.0\n",
              "15  16        12.39         9.78  100.0\n",
              "17  18        15.57         9.68  100.0\n",
              "20  21        15.29         9.89  100.0\n",
              "24  25         6.48         7.85  100.0\n",
              "32  33         7.03        10.11  100.0\n",
              "37  38         9.94        10.82  100.0\n",
              "41  42        14.06        10.43  100.0\n",
              "45  46         9.58        10.04  100.0\n",
              "46  47         9.63         9.78  100.0\n",
              "49  50         9.31        11.29  100.0\n",
              "51  52         9.10         9.57  100.0\n",
              "61  62        13.31        10.32  100.0\n",
              "68  69         9.86        10.43  100.0\n",
              "74  75         5.09         7.53  100.0\n",
              "78  79         8.52        10.32  100.0\n",
              "80  81         9.18         9.46  100.0\n",
              "93  94         9.07        10.21  100.0\n",
              "97  98        14.52        10.32  100.0"
            ]
          },
          "metadata": {
            "tags": []
          },
          "execution_count": 553
        }
      ]
    }
  ]
}