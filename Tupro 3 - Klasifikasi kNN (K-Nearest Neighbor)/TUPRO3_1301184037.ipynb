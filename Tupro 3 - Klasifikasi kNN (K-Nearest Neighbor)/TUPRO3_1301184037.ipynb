{
  "nbformat": 4,
  "nbformat_minor": 0,
  "metadata": {
    "colab": {
      "name": "TUPRO3.ipynb",
      "provenance": [],
      "collapsed_sections": [
        "KRvAF4V_sb9h"
      ],
      "toc_visible": true
    },
    "kernelspec": {
      "name": "python3",
      "display_name": "Python 3"
    }
  },
  "cells": [
    {
      "cell_type": "code",
      "metadata": {
        "id": "NrDUk-pSsE5o"
      },
      "source": [
        "import numpy as np\r\n",
        "import matplotlib.pyplot as plt\r\n",
        "import pandas as pd\r\n",
        "from sklearn.datasets import make_classification"
      ],
      "execution_count": 1,
      "outputs": []
    },
    {
      "cell_type": "markdown",
      "metadata": {
        "id": "KRvAF4V_sb9h"
      },
      "source": [
        "#Load Dataset"
      ]
    },
    {
      "cell_type": "code",
      "metadata": {
        "colab": {
          "base_uri": "https://localhost:8080/",
          "height": 0
        },
        "id": "Q3aJymimsgy3",
        "outputId": "ff365cbb-5f4d-4659-ce59-bdccabfae3d4"
      },
      "source": [
        "df = pd.read_csv(\"Diabetes.csv\")\r\n",
        "df"
      ],
      "execution_count": 2,
      "outputs": [
        {
          "output_type": "execute_result",
          "data": {
            "text/html": [
              "<div>\n",
              "<style scoped>\n",
              "    .dataframe tbody tr th:only-of-type {\n",
              "        vertical-align: middle;\n",
              "    }\n",
              "\n",
              "    .dataframe tbody tr th {\n",
              "        vertical-align: top;\n",
              "    }\n",
              "\n",
              "    .dataframe thead th {\n",
              "        text-align: right;\n",
              "    }\n",
              "</style>\n",
              "<table border=\"1\" class=\"dataframe\">\n",
              "  <thead>\n",
              "    <tr style=\"text-align: right;\">\n",
              "      <th></th>\n",
              "      <th>Pregnancies</th>\n",
              "      <th>Glucose</th>\n",
              "      <th>BloodPressure</th>\n",
              "      <th>SkinThickness</th>\n",
              "      <th>Insulin</th>\n",
              "      <th>BMI</th>\n",
              "      <th>DiabetesPedigreeFunction</th>\n",
              "      <th>Age</th>\n",
              "      <th>Outcome</th>\n",
              "    </tr>\n",
              "  </thead>\n",
              "  <tbody>\n",
              "    <tr>\n",
              "      <th>0</th>\n",
              "      <td>6</td>\n",
              "      <td>148</td>\n",
              "      <td>72</td>\n",
              "      <td>35</td>\n",
              "      <td>0</td>\n",
              "      <td>33.6</td>\n",
              "      <td>0.627</td>\n",
              "      <td>50</td>\n",
              "      <td>1</td>\n",
              "    </tr>\n",
              "    <tr>\n",
              "      <th>1</th>\n",
              "      <td>1</td>\n",
              "      <td>85</td>\n",
              "      <td>66</td>\n",
              "      <td>29</td>\n",
              "      <td>0</td>\n",
              "      <td>26.6</td>\n",
              "      <td>0.351</td>\n",
              "      <td>31</td>\n",
              "      <td>0</td>\n",
              "    </tr>\n",
              "    <tr>\n",
              "      <th>2</th>\n",
              "      <td>8</td>\n",
              "      <td>183</td>\n",
              "      <td>64</td>\n",
              "      <td>0</td>\n",
              "      <td>0</td>\n",
              "      <td>23.3</td>\n",
              "      <td>0.672</td>\n",
              "      <td>32</td>\n",
              "      <td>1</td>\n",
              "    </tr>\n",
              "    <tr>\n",
              "      <th>3</th>\n",
              "      <td>1</td>\n",
              "      <td>89</td>\n",
              "      <td>66</td>\n",
              "      <td>23</td>\n",
              "      <td>94</td>\n",
              "      <td>28.1</td>\n",
              "      <td>0.167</td>\n",
              "      <td>21</td>\n",
              "      <td>0</td>\n",
              "    </tr>\n",
              "    <tr>\n",
              "      <th>4</th>\n",
              "      <td>0</td>\n",
              "      <td>137</td>\n",
              "      <td>40</td>\n",
              "      <td>35</td>\n",
              "      <td>168</td>\n",
              "      <td>43.1</td>\n",
              "      <td>2.288</td>\n",
              "      <td>33</td>\n",
              "      <td>1</td>\n",
              "    </tr>\n",
              "    <tr>\n",
              "      <th>...</th>\n",
              "      <td>...</td>\n",
              "      <td>...</td>\n",
              "      <td>...</td>\n",
              "      <td>...</td>\n",
              "      <td>...</td>\n",
              "      <td>...</td>\n",
              "      <td>...</td>\n",
              "      <td>...</td>\n",
              "      <td>...</td>\n",
              "    </tr>\n",
              "    <tr>\n",
              "      <th>763</th>\n",
              "      <td>10</td>\n",
              "      <td>101</td>\n",
              "      <td>76</td>\n",
              "      <td>48</td>\n",
              "      <td>180</td>\n",
              "      <td>32.9</td>\n",
              "      <td>0.171</td>\n",
              "      <td>63</td>\n",
              "      <td>0</td>\n",
              "    </tr>\n",
              "    <tr>\n",
              "      <th>764</th>\n",
              "      <td>2</td>\n",
              "      <td>122</td>\n",
              "      <td>70</td>\n",
              "      <td>27</td>\n",
              "      <td>0</td>\n",
              "      <td>36.8</td>\n",
              "      <td>0.340</td>\n",
              "      <td>27</td>\n",
              "      <td>0</td>\n",
              "    </tr>\n",
              "    <tr>\n",
              "      <th>765</th>\n",
              "      <td>5</td>\n",
              "      <td>121</td>\n",
              "      <td>72</td>\n",
              "      <td>23</td>\n",
              "      <td>112</td>\n",
              "      <td>26.2</td>\n",
              "      <td>0.245</td>\n",
              "      <td>30</td>\n",
              "      <td>0</td>\n",
              "    </tr>\n",
              "    <tr>\n",
              "      <th>766</th>\n",
              "      <td>1</td>\n",
              "      <td>126</td>\n",
              "      <td>60</td>\n",
              "      <td>0</td>\n",
              "      <td>0</td>\n",
              "      <td>30.1</td>\n",
              "      <td>0.349</td>\n",
              "      <td>47</td>\n",
              "      <td>1</td>\n",
              "    </tr>\n",
              "    <tr>\n",
              "      <th>767</th>\n",
              "      <td>1</td>\n",
              "      <td>93</td>\n",
              "      <td>70</td>\n",
              "      <td>31</td>\n",
              "      <td>0</td>\n",
              "      <td>30.4</td>\n",
              "      <td>0.315</td>\n",
              "      <td>23</td>\n",
              "      <td>0</td>\n",
              "    </tr>\n",
              "  </tbody>\n",
              "</table>\n",
              "<p>768 rows × 9 columns</p>\n",
              "</div>"
            ],
            "text/plain": [
              "     Pregnancies  Glucose  ...  Age  Outcome\n",
              "0              6      148  ...   50        1\n",
              "1              1       85  ...   31        0\n",
              "2              8      183  ...   32        1\n",
              "3              1       89  ...   21        0\n",
              "4              0      137  ...   33        1\n",
              "..           ...      ...  ...  ...      ...\n",
              "763           10      101  ...   63        0\n",
              "764            2      122  ...   27        0\n",
              "765            5      121  ...   30        0\n",
              "766            1      126  ...   47        1\n",
              "767            1       93  ...   23        0\n",
              "\n",
              "[768 rows x 9 columns]"
            ]
          },
          "metadata": {
            "tags": []
          },
          "execution_count": 2
        }
      ]
    },
    {
      "cell_type": "markdown",
      "metadata": {
        "id": "yj5-H_-GaQMm"
      },
      "source": [
        "#Prapemrosesan Data"
      ]
    },
    {
      "cell_type": "markdown",
      "metadata": {
        "id": "eAZiqrZ3a7Ix"
      },
      "source": [
        "Rekayasa Fitur"
      ]
    },
    {
      "cell_type": "code",
      "metadata": {
        "colab": {
          "base_uri": "https://localhost:8080/",
          "height": 170
        },
        "id": "N0nYj7-etFmC",
        "outputId": "6279b478-8956-4f1f-e447-31882e43e808"
      },
      "source": [
        "df = (df-df.min()) / (df.max() - df.min())\r\n",
        "df.head(4)"
      ],
      "execution_count": 3,
      "outputs": [
        {
          "output_type": "execute_result",
          "data": {
            "text/html": [
              "<div>\n",
              "<style scoped>\n",
              "    .dataframe tbody tr th:only-of-type {\n",
              "        vertical-align: middle;\n",
              "    }\n",
              "\n",
              "    .dataframe tbody tr th {\n",
              "        vertical-align: top;\n",
              "    }\n",
              "\n",
              "    .dataframe thead th {\n",
              "        text-align: right;\n",
              "    }\n",
              "</style>\n",
              "<table border=\"1\" class=\"dataframe\">\n",
              "  <thead>\n",
              "    <tr style=\"text-align: right;\">\n",
              "      <th></th>\n",
              "      <th>Pregnancies</th>\n",
              "      <th>Glucose</th>\n",
              "      <th>BloodPressure</th>\n",
              "      <th>SkinThickness</th>\n",
              "      <th>Insulin</th>\n",
              "      <th>BMI</th>\n",
              "      <th>DiabetesPedigreeFunction</th>\n",
              "      <th>Age</th>\n",
              "      <th>Outcome</th>\n",
              "    </tr>\n",
              "  </thead>\n",
              "  <tbody>\n",
              "    <tr>\n",
              "      <th>0</th>\n",
              "      <td>0.352941</td>\n",
              "      <td>0.743719</td>\n",
              "      <td>0.590164</td>\n",
              "      <td>0.353535</td>\n",
              "      <td>0.000000</td>\n",
              "      <td>0.500745</td>\n",
              "      <td>0.234415</td>\n",
              "      <td>0.483333</td>\n",
              "      <td>1.0</td>\n",
              "    </tr>\n",
              "    <tr>\n",
              "      <th>1</th>\n",
              "      <td>0.058824</td>\n",
              "      <td>0.427136</td>\n",
              "      <td>0.540984</td>\n",
              "      <td>0.292929</td>\n",
              "      <td>0.000000</td>\n",
              "      <td>0.396423</td>\n",
              "      <td>0.116567</td>\n",
              "      <td>0.166667</td>\n",
              "      <td>0.0</td>\n",
              "    </tr>\n",
              "    <tr>\n",
              "      <th>2</th>\n",
              "      <td>0.470588</td>\n",
              "      <td>0.919598</td>\n",
              "      <td>0.524590</td>\n",
              "      <td>0.000000</td>\n",
              "      <td>0.000000</td>\n",
              "      <td>0.347243</td>\n",
              "      <td>0.253629</td>\n",
              "      <td>0.183333</td>\n",
              "      <td>1.0</td>\n",
              "    </tr>\n",
              "    <tr>\n",
              "      <th>3</th>\n",
              "      <td>0.058824</td>\n",
              "      <td>0.447236</td>\n",
              "      <td>0.540984</td>\n",
              "      <td>0.232323</td>\n",
              "      <td>0.111111</td>\n",
              "      <td>0.418778</td>\n",
              "      <td>0.038002</td>\n",
              "      <td>0.000000</td>\n",
              "      <td>0.0</td>\n",
              "    </tr>\n",
              "  </tbody>\n",
              "</table>\n",
              "</div>"
            ],
            "text/plain": [
              "   Pregnancies   Glucose  ...       Age  Outcome\n",
              "0     0.352941  0.743719  ...  0.483333      1.0\n",
              "1     0.058824  0.427136  ...  0.166667      0.0\n",
              "2     0.470588  0.919598  ...  0.183333      1.0\n",
              "3     0.058824  0.447236  ...  0.000000      0.0\n",
              "\n",
              "[4 rows x 9 columns]"
            ]
          },
          "metadata": {
            "tags": []
          },
          "execution_count": 3
        }
      ]
    },
    {
      "cell_type": "code",
      "metadata": {
        "colab": {
          "base_uri": "https://localhost:8080/"
        },
        "id": "p4RwPkujw-1k",
        "outputId": "2d6af96a-3463-4d90-f622-a8202c2d28b8"
      },
      "source": [
        "df.Outcome.value_counts()"
      ],
      "execution_count": 4,
      "outputs": [
        {
          "output_type": "execute_result",
          "data": {
            "text/plain": [
              "0.0    500\n",
              "1.0    268\n",
              "Name: Outcome, dtype: int64"
            ]
          },
          "metadata": {
            "tags": []
          },
          "execution_count": 4
        }
      ]
    },
    {
      "cell_type": "markdown",
      "metadata": {
        "id": "aEmVbs-IbDCF"
      },
      "source": [
        "Pembuatan Data Set"
      ]
    },
    {
      "cell_type": "code",
      "metadata": {
        "id": "1plFblj7xQPe"
      },
      "source": [
        "fold1_trainingset = df[['Pregnancies', 'Glucose', 'BloodPressure','SkinThickness', 'Insulin', 'BMI', 'DiabetesPedigreeFunction', 'Age', 'Outcome']][0:614]\r\n",
        "fold1_testingset = df[['Pregnancies', 'Glucose', 'BloodPressure','SkinThickness', 'Insulin', 'BMI', 'DiabetesPedigreeFunction', 'Age', 'Outcome']][614:768]\r\n",
        "\r\n",
        "fold1 = [fold1_trainingset, fold1_testingset]\r\n",
        "\r\n",
        "fold2_trainingset = pd.concat([df[['Pregnancies', 'Glucose', 'BloodPressure', 'SkinThickness', 'Insulin', 'BMI', 'DiabetesPedigreeFunction', 'Age', 'Outcome']][0:461],\r\n",
        "                    df[['Pregnancies', 'Glucose', 'BloodPressure', 'SkinThickness', 'Insulin', 'BMI','DiabetesPedigreeFunction', 'Age', 'Outcome']][614:768]])\r\n",
        "fold2_testingset = df[['Pregnancies', 'Glucose', 'BloodPressure', 'SkinThickness', 'Insulin', 'BMI', 'DiabetesPedigreeFunction', 'Age', 'Outcome']][461:614]\r\n",
        "\r\n",
        "fold2 = [fold2_trainingset, fold2_testingset]\r\n",
        "\r\n",
        "fold3_trainingset = pd.concat([df[['Pregnancies', 'Glucose', 'BloodPressure', 'SkinThickness', 'Insulin', 'BMI', 'DiabetesPedigreeFunction', 'Age', 'Outcome']][0:307],\r\n",
        "                    df[['Pregnancies', 'Glucose', 'BloodPressure', 'SkinThickness', 'Insulin', 'BMI','DiabetesPedigreeFunction', 'Age', 'Outcome']][461:768]])\r\n",
        "fold3_testingset = df[['Pregnancies', 'Glucose', 'BloodPressure', 'SkinThickness', 'Insulin', 'BMI', 'DiabetesPedigreeFunction', 'Age', 'Outcome']][307:461]\r\n",
        "\r\n",
        "fold3 = [fold3_trainingset, fold3_testingset]\r\n",
        "\r\n",
        "fold4_trainingset = pd.concat([df[['Pregnancies', 'Glucose', 'BloodPressure', 'SkinThickness', 'Insulin', 'BMI', 'DiabetesPedigreeFunction', 'Age', 'Outcome']][0:154],\r\n",
        "                    df[['Pregnancies', 'Glucose', 'BloodPressure', 'SkinThickness', 'Insulin', 'BMI','DiabetesPedigreeFunction', 'Age', 'Outcome']][307:768]])\r\n",
        "fold4_testingset = df[['Pregnancies', 'Glucose', 'BloodPressure', 'SkinThickness', 'Insulin', 'BMI', 'DiabetesPedigreeFunction', 'Age', 'Outcome']][154:307]\r\n",
        "\r\n",
        "fold4 = [fold4_trainingset, fold4_testingset]\r\n",
        "\r\n",
        "fold5_trainingset = df[['Pregnancies', 'Glucose', 'BloodPressure','SkinThickness', 'Insulin', 'BMI', 'DiabetesPedigreeFunction', 'Age', 'Outcome']][154:768]\r\n",
        "fold5_testingset = df[['Pregnancies', 'Glucose', 'BloodPressure','SkinThickness', 'Insulin', 'BMI', 'DiabetesPedigreeFunction', 'Age', 'Outcome']][0:154]\r\n",
        "\r\n",
        "fold5 = [fold5_trainingset, fold5_testingset]"
      ],
      "execution_count": 5,
      "outputs": []
    },
    {
      "cell_type": "code",
      "metadata": {
        "colab": {
          "base_uri": "https://localhost:8080/"
        },
        "id": "5rYH3ggvzX6B",
        "outputId": "f3230187-9573-483b-aa7a-77f7e278e0e9"
      },
      "source": [
        "df_fold = [fold1, fold2, fold3, fold4, fold5]\r\n",
        "\r\n",
        "for item in df_fold:\r\n",
        "    print(len( item[0]), len(item[1]))"
      ],
      "execution_count": 6,
      "outputs": [
        {
          "output_type": "stream",
          "text": [
            "614 154\n",
            "615 153\n",
            "614 154\n",
            "615 153\n",
            "614 154\n"
          ],
          "name": "stdout"
        }
      ]
    },
    {
      "cell_type": "code",
      "metadata": {
        "colab": {
          "base_uri": "https://localhost:8080/"
        },
        "id": "qJJlAGFK2gF0",
        "outputId": "4233c384-3ce6-4479-8903-c2c604bf93e1"
      },
      "source": [
        "df_fold"
      ],
      "execution_count": 7,
      "outputs": [
        {
          "output_type": "execute_result",
          "data": {
            "text/plain": [
              "[[     Pregnancies   Glucose  ...       Age  Outcome\n",
              "  0       0.352941  0.743719  ...  0.483333      1.0\n",
              "  1       0.058824  0.427136  ...  0.166667      0.0\n",
              "  2       0.470588  0.919598  ...  0.183333      1.0\n",
              "  3       0.058824  0.447236  ...  0.000000      0.0\n",
              "  4       0.000000  0.688442  ...  0.200000      1.0\n",
              "  ..           ...       ...  ...       ...      ...\n",
              "  609     0.058824  0.557789  ...  0.033333      0.0\n",
              "  610     0.176471  0.532663  ...  0.050000      0.0\n",
              "  611     0.176471  0.874372  ...  0.250000      1.0\n",
              "  612     0.411765  0.844221  ...  0.316667      1.0\n",
              "  613     0.352941  0.527638  ...  0.083333      0.0\n",
              "  \n",
              "  [614 rows x 9 columns],      Pregnancies   Glucose  ...       Age  Outcome\n",
              "  614     0.647059  0.693467  ...  0.483333      1.0\n",
              "  615     0.176471  0.532663  ...  0.100000      0.0\n",
              "  616     0.352941  0.587940  ...  0.150000      0.0\n",
              "  617     0.117647  0.341709  ...  0.033333      0.0\n",
              "  618     0.529412  0.562814  ...  0.483333      1.0\n",
              "  ..           ...       ...  ...       ...      ...\n",
              "  763     0.588235  0.507538  ...  0.700000      0.0\n",
              "  764     0.117647  0.613065  ...  0.100000      0.0\n",
              "  765     0.294118  0.608040  ...  0.150000      0.0\n",
              "  766     0.058824  0.633166  ...  0.433333      1.0\n",
              "  767     0.058824  0.467337  ...  0.033333      0.0\n",
              "  \n",
              "  [154 rows x 9 columns]], [     Pregnancies   Glucose  ...       Age  Outcome\n",
              "  0       0.352941  0.743719  ...  0.483333      1.0\n",
              "  1       0.058824  0.427136  ...  0.166667      0.0\n",
              "  2       0.470588  0.919598  ...  0.183333      1.0\n",
              "  3       0.058824  0.447236  ...  0.000000      0.0\n",
              "  4       0.000000  0.688442  ...  0.200000      1.0\n",
              "  ..           ...       ...  ...       ...      ...\n",
              "  763     0.588235  0.507538  ...  0.700000      0.0\n",
              "  764     0.117647  0.613065  ...  0.100000      0.0\n",
              "  765     0.294118  0.608040  ...  0.150000      0.0\n",
              "  766     0.058824  0.633166  ...  0.433333      1.0\n",
              "  767     0.058824  0.467337  ...  0.033333      0.0\n",
              "  \n",
              "  [615 rows x 9 columns],      Pregnancies   Glucose  ...       Age  Outcome\n",
              "  461     0.058824  0.356784  ...  0.083333      0.0\n",
              "  462     0.470588  0.371859  ...  0.300000      0.0\n",
              "  463     0.294118  0.442211  ...  0.266667      0.0\n",
              "  464     0.588235  0.577889  ...  0.216667      0.0\n",
              "  465     0.000000  0.623116  ...  0.000000      0.0\n",
              "  ..           ...       ...  ...       ...      ...\n",
              "  609     0.058824  0.557789  ...  0.033333      0.0\n",
              "  610     0.176471  0.532663  ...  0.050000      0.0\n",
              "  611     0.176471  0.874372  ...  0.250000      1.0\n",
              "  612     0.411765  0.844221  ...  0.316667      1.0\n",
              "  613     0.352941  0.527638  ...  0.083333      0.0\n",
              "  \n",
              "  [153 rows x 9 columns]], [     Pregnancies   Glucose  ...       Age  Outcome\n",
              "  0       0.352941  0.743719  ...  0.483333      1.0\n",
              "  1       0.058824  0.427136  ...  0.166667      0.0\n",
              "  2       0.470588  0.919598  ...  0.183333      1.0\n",
              "  3       0.058824  0.447236  ...  0.000000      0.0\n",
              "  4       0.000000  0.688442  ...  0.200000      1.0\n",
              "  ..           ...       ...  ...       ...      ...\n",
              "  763     0.588235  0.507538  ...  0.700000      0.0\n",
              "  764     0.117647  0.613065  ...  0.100000      0.0\n",
              "  765     0.294118  0.608040  ...  0.150000      0.0\n",
              "  766     0.058824  0.633166  ...  0.433333      1.0\n",
              "  767     0.058824  0.467337  ...  0.033333      0.0\n",
              "  \n",
              "  [614 rows x 9 columns],      Pregnancies   Glucose  ...       Age  Outcome\n",
              "  307     0.000000  0.688442  ...  0.000000      0.0\n",
              "  308     0.000000  0.643216  ...  0.066667      1.0\n",
              "  309     0.117647  0.623116  ...  0.150000      1.0\n",
              "  310     0.352941  0.402010  ...  0.333333      0.0\n",
              "  311     0.000000  0.532663  ...  0.016667      0.0\n",
              "  ..           ...       ...  ...       ...      ...\n",
              "  456     0.058824  0.678392  ...  0.683333      0.0\n",
              "  457     0.294118  0.432161  ...  0.050000      0.0\n",
              "  458     0.588235  0.743719  ...  0.500000      1.0\n",
              "  459     0.529412  0.673367  ...  1.000000      0.0\n",
              "  460     0.529412  0.603015  ...  0.450000      0.0\n",
              "  \n",
              "  [154 rows x 9 columns]], [     Pregnancies   Glucose  ...       Age  Outcome\n",
              "  0       0.352941  0.743719  ...  0.483333      1.0\n",
              "  1       0.058824  0.427136  ...  0.166667      0.0\n",
              "  2       0.470588  0.919598  ...  0.183333      1.0\n",
              "  3       0.058824  0.447236  ...  0.000000      0.0\n",
              "  4       0.000000  0.688442  ...  0.200000      1.0\n",
              "  ..           ...       ...  ...       ...      ...\n",
              "  763     0.588235  0.507538  ...  0.700000      0.0\n",
              "  764     0.117647  0.613065  ...  0.100000      0.0\n",
              "  765     0.294118  0.608040  ...  0.150000      0.0\n",
              "  766     0.058824  0.633166  ...  0.433333      1.0\n",
              "  767     0.058824  0.467337  ...  0.033333      0.0\n",
              "  \n",
              "  [615 rows x 9 columns],      Pregnancies   Glucose  ...       Age  Outcome\n",
              "  154     0.470588  0.944724  ...  0.366667      1.0\n",
              "  155     0.411765  0.763819  ...  0.250000      1.0\n",
              "  156     0.117647  0.497487  ...  0.000000      0.0\n",
              "  157     0.058824  0.547739  ...  0.033333      0.0\n",
              "  158     0.117647  0.442211  ...  0.016667      0.0\n",
              "  ..           ...       ...  ...       ...      ...\n",
              "  302     0.294118  0.386935  ...  0.233333      0.0\n",
              "  303     0.294118  0.577889  ...  0.116667      1.0\n",
              "  304     0.176471  0.753769  ...  0.266667      0.0\n",
              "  305     0.117647  0.603015  ...  0.133333      0.0\n",
              "  306     0.588235  0.809045  ...  0.433333      1.0\n",
              "  \n",
              "  [153 rows x 9 columns]], [     Pregnancies   Glucose  ...       Age  Outcome\n",
              "  154     0.470588  0.944724  ...  0.366667      1.0\n",
              "  155     0.411765  0.763819  ...  0.250000      1.0\n",
              "  156     0.117647  0.497487  ...  0.000000      0.0\n",
              "  157     0.058824  0.547739  ...  0.033333      0.0\n",
              "  158     0.117647  0.442211  ...  0.016667      0.0\n",
              "  ..           ...       ...  ...       ...      ...\n",
              "  763     0.588235  0.507538  ...  0.700000      0.0\n",
              "  764     0.117647  0.613065  ...  0.100000      0.0\n",
              "  765     0.294118  0.608040  ...  0.150000      0.0\n",
              "  766     0.058824  0.633166  ...  0.433333      1.0\n",
              "  767     0.058824  0.467337  ...  0.033333      0.0\n",
              "  \n",
              "  [614 rows x 9 columns],      Pregnancies   Glucose  ...       Age  Outcome\n",
              "  0       0.352941  0.743719  ...  0.483333      1.0\n",
              "  1       0.058824  0.427136  ...  0.166667      0.0\n",
              "  2       0.470588  0.919598  ...  0.183333      1.0\n",
              "  3       0.058824  0.447236  ...  0.000000      0.0\n",
              "  4       0.000000  0.688442  ...  0.200000      1.0\n",
              "  ..           ...       ...  ...       ...      ...\n",
              "  149     0.117647  0.452261  ...  0.016667      0.0\n",
              "  150     0.058824  0.683417  ...  0.050000      0.0\n",
              "  151     0.235294  0.572864  ...  0.266667      0.0\n",
              "  152     0.529412  0.783920  ...  0.350000      1.0\n",
              "  153     0.058824  0.768844  ...  0.033333      0.0\n",
              "  \n",
              "  [154 rows x 9 columns]]]"
            ]
          },
          "metadata": {
            "tags": []
          },
          "execution_count": 7
        }
      ]
    },
    {
      "cell_type": "markdown",
      "metadata": {
        "id": "BDEx1V09-xv8"
      },
      "source": [
        "#KNN"
      ]
    },
    {
      "cell_type": "code",
      "metadata": {
        "id": "AZFR5TNK-zsF"
      },
      "source": [
        "def euclidean(x1, x2):\r\n",
        "    return np.linalg.norm(x1-x2, axis=1)"
      ],
      "execution_count": 8,
      "outputs": []
    },
    {
      "cell_type": "code",
      "metadata": {
        "id": "FPk1TYM5-2G4"
      },
      "source": [
        "def predict(x, data_train, k, distance_fn):\r\n",
        "    X, y        = data_train\r\n",
        "    dist        = distance_fn(x, X)\r\n",
        "    nearest_idx = dist.argsort()[:k]\r\n",
        "    y_pred      = y[nearest_idx]\r\n",
        "    y_pred      = np.bincount(y_pred).argmax()\r\n",
        "    return y_pred"
      ],
      "execution_count": 9,
      "outputs": []
    },
    {
      "cell_type": "markdown",
      "metadata": {
        "id": "4FX6hIN--66R"
      },
      "source": [
        "#K-FOLD"
      ]
    },
    {
      "cell_type": "code",
      "metadata": {
        "id": "G_0jeeXR-8xI"
      },
      "source": [
        "def accuracy(y, y_pred):\r\n",
        "    acc = (y == y_pred).mean()\r\n",
        "    return acc"
      ],
      "execution_count": 10,
      "outputs": []
    },
    {
      "cell_type": "code",
      "metadata": {
        "id": "VWiGSahv_LQb",
        "colab": {
          "base_uri": "https://localhost:8080/"
        },
        "outputId": "26d3546d-203c-434c-90ca-6adb32f0b199"
      },
      "source": [
        "k_observe = [1, 3, 5, 7]\r\n",
        "# obsmin = 1\r\n",
        "# obsmax = 50\r\n",
        "# k_observe = range(obsmin, obsmax)\r\n",
        "acc_fold = []\r\n",
        "n_fold = 5\r\n",
        "\r\n",
        "for i in range(n_fold):\r\n",
        "\r\n",
        "    X_val = df_fold[i][1].drop(\"Outcome\", axis=1).to_numpy()\r\n",
        "    y_val = df_fold[i][1][\"Outcome\"].to_numpy().astype(\"int\")\r\n",
        "\r\n",
        "    X_train = df_fold[i][0].drop(\"Outcome\", axis=1).to_numpy()\r\n",
        "    y_train = df_fold[i][0][\"Outcome\"].to_numpy().astype(\"int\")\r\n",
        "\r\n",
        "    data_train = (X_train, y_train)\r\n",
        "\r\n",
        "    acc = []\r\n",
        "    for k in k_observe:\r\n",
        "        y_pred = []\r\n",
        "        for x in X_val:\r\n",
        "            y_hat = predict(x, data_train, k, euclidean)\r\n",
        "            y_pred.append(y_hat)\r\n",
        "        y_pred = np.array(y_pred)\r\n",
        "\r\n",
        "        acc_k = accuracy(y_val, y_pred)\r\n",
        "        print('fold=%d, k=%d, acc=%0.2f' % (i, k, acc_k))\r\n",
        "\r\n",
        "        acc.append(acc_k)\r\n",
        "\r\n",
        "    acc_fold.append(acc)"
      ],
      "execution_count": 11,
      "outputs": [
        {
          "output_type": "stream",
          "text": [
            "fold=0, k=1, acc=0.68\n",
            "fold=0, k=3, acc=0.72\n",
            "fold=0, k=5, acc=0.73\n",
            "fold=0, k=7, acc=0.76\n",
            "fold=1, k=1, acc=0.72\n",
            "fold=1, k=3, acc=0.77\n",
            "fold=1, k=5, acc=0.78\n",
            "fold=1, k=7, acc=0.79\n",
            "fold=2, k=1, acc=0.69\n",
            "fold=2, k=3, acc=0.73\n",
            "fold=2, k=5, acc=0.73\n",
            "fold=2, k=7, acc=0.77\n",
            "fold=3, k=1, acc=0.67\n",
            "fold=3, k=3, acc=0.67\n",
            "fold=3, k=5, acc=0.67\n",
            "fold=3, k=7, acc=0.69\n",
            "fold=4, k=1, acc=0.73\n",
            "fold=4, k=3, acc=0.75\n",
            "fold=4, k=5, acc=0.78\n",
            "fold=4, k=7, acc=0.77\n"
          ],
          "name": "stdout"
        }
      ]
    },
    {
      "cell_type": "code",
      "metadata": {
        "colab": {
          "base_uri": "https://localhost:8080/"
        },
        "id": "aoR0hBhsDKdb",
        "outputId": "3c0256e2-215c-4198-ca8a-145141e5d4c2"
      },
      "source": [
        "acc_fold = np.array(acc_fold)\r\n",
        "acc_fold"
      ],
      "execution_count": 12,
      "outputs": [
        {
          "output_type": "execute_result",
          "data": {
            "text/plain": [
              "array([[0.67532468, 0.72077922, 0.73376623, 0.75974026],\n",
              "       [0.71895425, 0.77124183, 0.78431373, 0.79084967],\n",
              "       [0.69480519, 0.73376623, 0.72727273, 0.76623377],\n",
              "       [0.67320261, 0.66666667, 0.66666667, 0.68627451],\n",
              "       [0.73376623, 0.75324675, 0.77922078, 0.76623377]])"
            ]
          },
          "metadata": {
            "tags": []
          },
          "execution_count": 12
        }
      ]
    },
    {
      "cell_type": "code",
      "metadata": {
        "colab": {
          "base_uri": "https://localhost:8080/"
        },
        "id": "4QhPGi80DLpj",
        "outputId": "6727feb5-6ead-4fb1-b55e-9db8de76e464"
      },
      "source": [
        "acc_mean = acc_fold.mean(axis=0)\r\n",
        "acc_mean.argmax()"
      ],
      "execution_count": 13,
      "outputs": [
        {
          "output_type": "execute_result",
          "data": {
            "text/plain": [
              "3"
            ]
          },
          "metadata": {
            "tags": []
          },
          "execution_count": 13
        }
      ]
    },
    {
      "cell_type": "code",
      "metadata": {
        "colab": {
          "base_uri": "https://localhost:8080/"
        },
        "id": "wYdBLrP4KWsc",
        "outputId": "e4bd6993-854d-4171-d1ae-27959b4f6d86"
      },
      "source": [
        "idx_max = np.where(acc_mean == acc_mean.max())[0][0]\r\n",
        "print(\"k terbaik dari observasi dengan\",k_observe,\"yaitu ada pada k =\",idx_max,\"dan nilai akurasinya adalah : \",acc_mean.max())"
      ],
      "execution_count": 14,
      "outputs": [
        {
          "output_type": "stream",
          "text": [
            "k terbaik dari observasi dengan [1, 3, 5, 7] yaitu ada pada k = 3 dan nilai akurasinya adalah :  0.7538663950428657\n"
          ],
          "name": "stdout"
        }
      ]
    },
    {
      "cell_type": "code",
      "metadata": {
        "colab": {
          "base_uri": "https://localhost:8080/"
        },
        "id": "l6S5Xe3liTvZ",
        "outputId": "7c55c81f-9034-479d-90fc-1086e5744a08"
      },
      "source": [
        "print('Nilai akurasi tiap fold dengan observasi',k_observe)\r\n",
        "i = 0\r\n",
        "while i < len(acc_fold):\r\n",
        "    element = acc_fold[i]\r\n",
        "    print(\"Fold ke-\",i,': ',acc_fold[i].mean())\r\n",
        "    i = i + 1\r\n",
        "print('Rerata akurasi yang didapat pada observasi',k_observe,'adalah',acc_fold.mean())"
      ],
      "execution_count": 15,
      "outputs": [
        {
          "output_type": "stream",
          "text": [
            "Nilai akurasi tiap fold dengan observasi [1, 3, 5, 7]\n",
            "Fold ke- 0 :  0.7224025974025974\n",
            "Fold ke- 1 :  0.7663398692810457\n",
            "Fold ke- 2 :  0.7305194805194805\n",
            "Fold ke- 3 :  0.673202614379085\n",
            "Fold ke- 4 :  0.7581168831168831\n",
            "Rerata akurasi yang didapat pada observasi [1, 3, 5, 7] adalah 0.7301162889398183\n"
          ],
          "name": "stdout"
        }
      ]
    },
    {
      "cell_type": "code",
      "metadata": {
        "colab": {
          "base_uri": "https://localhost:8080/",
          "height": 265
        },
        "id": "686LNNaVDVl7",
        "outputId": "40043be5-173c-478b-9861-153e8772c770"
      },
      "source": [
        "plt.plot(k_observe, acc_mean)\r\n",
        "plt.xticks(k_observe)\r\n",
        "plt.yticks(acc_mean)\r\n",
        "plt.show()"
      ],
      "execution_count": 16,
      "outputs": [
        {
          "output_type": "display_data",
          "data": {
            "image/png": "[encoded data removed]",
            "text/plain": [
              "<Figure size 432x288 with 1 Axes>"
            ]
          },
          "metadata": {
            "tags": [],
            "needs_background": "light"
          }
        }
      ]
    }
  ]
}